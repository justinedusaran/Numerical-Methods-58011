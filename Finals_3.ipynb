{
  "nbformat": 4,
  "nbformat_minor": 0,
  "metadata": {
    "colab": {
      "name": "Finals #3.ipynb",
      "provenance": [],
      "authorship_tag": "ABX9TyNM7g7XuVoVTdvHV6mLvGwW",
      "include_colab_link": true
    },
    "kernelspec": {
      "name": "python3",
      "display_name": "Python 3"
    },
    "language_info": {
      "name": "python"
    }
  },
  "cells": [
    {
      "cell_type": "markdown",
      "metadata": {
        "id": "view-in-github",
        "colab_type": "text"
      },
      "source": [
        "<a href=\"https://colab.research.google.com/github/qwertinuiop/Numerical-Methods-58011/blob/main/Finals_3.ipynb\" target=\"_parent\"><img src=\"https://colab.research.google.com/assets/colab-badge.svg\" alt=\"Open In Colab\"/></a>"
      ]
    },
    {
      "cell_type": "code",
      "execution_count": 2,
      "metadata": {
        "colab": {
          "base_uri": "https://localhost:8080/"
        },
        "id": "n_XndAYpzgse",
        "outputId": "cd87b6e6-f3bf-46b5-8ca2-9c3c707ef99c"
      },
      "outputs": [
        {
          "output_type": "stream",
          "name": "stdout",
          "text": [
            "Integral = 0.1\n"
          ]
        }
      ],
      "source": [
        "from math import e\n",
        "def f(x): return e**x\n",
        "a = -1\n",
        "b = 1\n",
        "n = 11\n",
        "h = (b-a)/n\n",
        "S = h*(f(a)+f(b))\n",
        "for i in range(1,n):\n",
        "    S+= (a+i*h)\n",
        "Integral=h*S\n",
        "print('Integral = %.1f' %Integral)"
      ]
    }
  ]
}